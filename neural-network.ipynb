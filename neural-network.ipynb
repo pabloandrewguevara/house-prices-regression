{
 "cells": [
  {
   "cell_type": "code",
   "execution_count": 1,
   "id": "02223730-ca2b-4030-a0db-274b9d364a09",
   "metadata": {},
   "outputs": [],
   "source": [
    "import warnings\n",
    "warnings.filterwarnings(\"ignore\")\n",
    "\n",
    "import numpy as np\n",
    "import pandas as pd\n",
    "import matplotlib.pyplot as plt\n",
    "from sklearn.model_selection import train_test_split\n",
    "import torch\n",
    "import torch.nn as nn\n",
    "import torch.optim as optim\n",
    "from torch.utils.data import TensorDataset, DataLoader\n",
    "import random\n",
    "\n",
    "%matplotlib inline\n",
    "\n",
    "plt.style.use('ggplot')"
   ]
  },
  {
   "cell_type": "markdown",
   "id": "ffb8e1ca-7e6f-4940-88a5-89aa1c23e41c",
   "metadata": {},
   "source": [
    "# 1. Data Loading"
   ]
  },
  {
   "cell_type": "code",
   "execution_count": 2,
   "id": "15464cb4-7bcb-40fb-8177-7d7d9a5ff22b",
   "metadata": {},
   "outputs": [],
   "source": [
    "# Load data\n",
    "train = pd.read_csv('./data/train_transformed.csv')\n",
    "X_test = pd.read_csv('./data/test_transformed.csv')\n",
    "\n",
    "# Prepare features and target\n",
    "X_full = train.drop('SalePrice', axis=1)\n",
    "y_full = train.SalePrice\n",
    "\n",
    "# Split the training data into training and dev sets.\n",
    "X_train, X_dev, y_train, y_dev = train_test_split(\n",
    "    X_full, y_full, test_size=0.2, random_state=42\n",
    ")\n",
    "\n",
    "# Add missing 1-hot encoded columns to X_test to match X_train\n",
    "for col in X_train.columns:\n",
    "    if col not in X_test.columns:\n",
    "        X_test[col] = False\n",
    "\n",
    "# Drop column MSSubClass_150 from X_test and align its columns with X_train\n",
    "X_test.drop('MSSubClass_150', axis=1, inplace=True)\n",
    "X_test = X_test[X_train.columns]"
   ]
  },
  {
   "cell_type": "markdown",
   "id": "7c239d78-15df-443d-9726-5fd1886c37c0",
   "metadata": {},
   "source": [
    "# 2. PyTorch Setup"
   ]
  },
  {
   "cell_type": "code",
   "execution_count": 3,
   "id": "f59fc2fb-4113-4c0e-bf67-a376d640d27f",
   "metadata": {},
   "outputs": [],
   "source": [
    "# Set the seed for reproducibility\n",
    "seed = 42\n",
    "np.random.seed(seed)\n",
    "torch.manual_seed(seed)\n",
    "random.seed(seed)\n",
    "if torch.cuda.is_available():\n",
    "    torch.cuda.manual_seed(seed)\n",
    "    torch.cuda.manual_seed_all(seed)\n",
    "    torch.backends.cudnn.deterministic = True\n",
    "    torch.backends.cudnn.benchmark = False\n",
    "\n",
    "# Convert the pandas DataFrames to float32 numeric arrays and then to PyTorch tensors.\n",
    "# Training tensors\n",
    "X_train_tensor = torch.tensor(X_train.astype(np.float32).to_numpy(), dtype=torch.float32)\n",
    "y_train_tensor = torch.tensor(y_train.astype(np.float32).to_numpy(), dtype=torch.float32).unsqueeze(1)\n",
    "\n",
    "# Development tensors\n",
    "X_dev_tensor = torch.tensor(X_dev.astype(np.float32).to_numpy(), dtype=torch.float32)\n",
    "y_dev_tensor = torch.tensor(y_dev.astype(np.float32).to_numpy(), dtype=torch.float32).unsqueeze(1)\n",
    "\n",
    "# Test tensors\n",
    "X_test_tensor  = torch.tensor(X_test.astype(np.float32).to_numpy(), dtype=torch.float32)\n",
    "\n",
    "# Create DataLoaders for mini-batch training and evaluation.\n",
    "batch_size = 32\n",
    "train_dataset = TensorDataset(X_train_tensor, y_train_tensor)\n",
    "dev_dataset = TensorDataset(X_dev_tensor, y_dev_tensor)\n",
    "train_loader = DataLoader(train_dataset, batch_size=batch_size, shuffle=True)\n",
    "dev_loader = DataLoader(dev_dataset, batch_size=batch_size, shuffle=False)"
   ]
  },
  {
   "cell_type": "markdown",
   "id": "6298ab79-5744-4d0f-ac19-6836a9ff7c97",
   "metadata": {},
   "source": [
    "# 3. Feed-forward Neural Network Class"
   ]
  },
  {
   "cell_type": "code",
   "execution_count": 4,
   "id": "54e6d2fe-fcf4-449d-bb6d-ea49bf78801c",
   "metadata": {},
   "outputs": [],
   "source": [
    "# Define a simple feed-forward neural network.\n",
    "class FeedForwardNN(nn.Module):\n",
    "    def __init__(self, input_dim):\n",
    "        super(FeedForwardNN, self).__init__()\n",
    "        self.net = nn.Sequential(\n",
    "            nn.Linear(input_dim, 64),\n",
    "            nn.ReLU(),\n",
    "            nn.Linear(64, 64),\n",
    "            nn.ReLU(),\n",
    "            nn.Linear(64, 32),\n",
    "            nn.ReLU(),\n",
    "            nn.Linear(32, 1)  # Output layer for regression\n",
    "        )\n",
    "    \n",
    "    def forward(self, x):\n",
    "        return self.net(x)"
   ]
  },
  {
   "cell_type": "markdown",
   "id": "0a096ae4-c9b9-44c6-a05f-d6b9cb37466c",
   "metadata": {},
   "source": [
    "# 4. RMSE  Log Loss Function"
   ]
  },
  {
   "cell_type": "markdown",
   "id": "4362aa13-4dd2-42db-a158-a2b05ade0d0d",
   "metadata": {},
   "source": [
    "This loss function computes the **Root Mean Squared Error (RMSE)** of the logarithms of the predictions and targets. The goal is to compare values on a logarithmic scale, which can be especially useful when dealing with targets that span several orders of magnitude. Before taking the logarithm, both the predictions and targets are clamped* to a small positive value (epsilon) to avoid issues with \\(\\log(0)\\).\n",
    "\n",
    "Mathematically, given predictions $\\hat{y}_i$ and true values $y_i$, the loss is defined as:\n",
    "\n",
    "$$\n",
    "\\text{RMSE}_{\\log} = \\sqrt{ \\frac{1}{N} \\sum_{i=1}^{N} \\left( \\log(\\hat{y}_i) - \\log(y_i) \\right)^2 }\n",
    "$$\n",
    "\n",
    "where:\n",
    "- $N$ is the number of samples,\n",
    "- $\\hat{y}_i$ is the predicted value for the $i$-th sample,\n",
    "- $y_i$ is the true target value for the $i$-th sample,\n",
    "- A clamping operation ensures that both $\\hat{y}_i$ and $y_i$ are at least $\\epsilon$ (e.g., $1 \\times 10^{-7}$).\n",
    "\n",
    "\\* *Clamping restricts a value so it remains within a specified range. In our loss function, this ensures both predictions and target values have a minimum value $\\epsilon$. This ensures we don't take a logarithm of a non-positive number (which is undefined). Essentially, clamping forces every value to be at least $\\epsilon$, which helps prevent errors when computing the log.*"
   ]
  },
  {
   "cell_type": "code",
   "execution_count": 5,
   "id": "3079f41c-f499-4c3f-b9e9-847752afb781",
   "metadata": {},
   "outputs": [],
   "source": [
    "# Custom loss function: RMSE of log-transformed values.\n",
    "def rmse_log_loss(pred, target, epsilon=1e-7):\n",
    "    # Clamp to ensure positivity\n",
    "    pred = torch.clamp(pred, min=epsilon)\n",
    "    target = torch.clamp(target, min=epsilon)\n",
    "    return torch.sqrt(torch.mean((torch.log(pred) - torch.log(target)) ** 2))"
   ]
  },
  {
   "cell_type": "markdown",
   "id": "11e7ffb5-e98b-410d-a7d7-cb07b4b99c82",
   "metadata": {},
   "source": [
    "# 5. Model Instantiation"
   ]
  },
  {
   "cell_type": "code",
   "execution_count": 6,
   "id": "4090d62e-13f2-438b-91f5-b82fcc5b366f",
   "metadata": {},
   "outputs": [],
   "source": [
    "# Instantiate the model.\n",
    "input_dim = X_train_tensor.shape[1]\n",
    "model = FeedForwardNN(input_dim)"
   ]
  },
  {
   "cell_type": "markdown",
   "id": "5c598ba1-774d-4749-b02c-17e8ee58d3e9",
   "metadata": {},
   "source": [
    "# 6. Model Training"
   ]
  },
  {
   "cell_type": "code",
   "execution_count": 7,
   "id": "ea3f871e-12e6-4f16-9c07-2e86a54adb90",
   "metadata": {},
   "outputs": [
    {
     "name": "stdout",
     "output_type": "stream",
     "text": [
      "Epoch [100/500], Training RMSE Log Loss: 0.1868, Dev RMSE Log Loss: 0.1950\n",
      "Epoch [200/500], Training RMSE Log Loss: 0.1661, Dev RMSE Log Loss: 0.1777\n",
      "Epoch [300/500], Training RMSE Log Loss: 0.1322, Dev RMSE Log Loss: 0.1532\n",
      "Epoch [400/500], Training RMSE Log Loss: 0.1168, Dev RMSE Log Loss: 0.1430\n",
      "Epoch [500/500], Training RMSE Log Loss: 0.1163, Dev RMSE Log Loss: 0.1381\n"
     ]
    }
   ],
   "source": [
    "# Define the optimizer.\n",
    "optimizer = optim.Adam(model.parameters(), lr=0.001)\n",
    "\n",
    "# Containers to record epoch numbers and losses.\n",
    "epochs = []\n",
    "train_losses = []\n",
    "dev_losses = []\n",
    "\n",
    "# Training loop.\n",
    "num_epochs = 500\n",
    "for epoch in range(num_epochs):\n",
    "    model.train()\n",
    "    epoch_train_loss = 0.0\n",
    "    # Iterate over batches from the training loader.\n",
    "    for batch_X, batch_y in train_loader:\n",
    "        optimizer.zero_grad()               # Clear gradients\n",
    "        outputs = model(batch_X)              # Forward pass\n",
    "        loss = rmse_log_loss(outputs, batch_y)  # Compute training loss\n",
    "        loss.backward()                       # Backpropagation\n",
    "        optimizer.step()                      # Update weights\n",
    "        epoch_train_loss += loss.item() * batch_X.size(0)\n",
    "    \n",
    "    # Average training loss across batches.\n",
    "    epoch_train_loss /= len(train_loader.dataset)\n",
    "    \n",
    "    # Evaluation on the dev set.\n",
    "    model.eval()\n",
    "    epoch_dev_loss = 0.0\n",
    "    with torch.no_grad():\n",
    "        for dev_X, dev_y in dev_loader:\n",
    "            dev_outputs = model(dev_X)\n",
    "            loss_dev = rmse_log_loss(dev_outputs, dev_y)\n",
    "            epoch_dev_loss += loss_dev.item() * dev_X.size(0)\n",
    "    epoch_dev_loss /= len(dev_loader.dataset)\n",
    "    \n",
    "    # Record losses and epoch number.\n",
    "    epochs.append(epoch + 1)\n",
    "    train_losses.append(epoch_train_loss)\n",
    "    dev_losses.append(epoch_dev_loss)\n",
    "\n",
    "    # print for every 100 epochs\n",
    "    if (epoch + 1) % 100 == 0:\n",
    "        print(f\"Epoch [{epoch+1}/{num_epochs}], Training RMSE Log Loss: {epoch_train_loss:.4f}, Dev RMSE Log Loss: {epoch_dev_loss:.4f}\")"
   ]
  },
  {
   "cell_type": "markdown",
   "id": "3f3ed1ff-a50c-4a74-9fe4-df9c24565999",
   "metadata": {},
   "source": [
    "# 7. Loss Curves"
   ]
  },
  {
   "cell_type": "code",
   "execution_count": 8,
   "id": "4d93d0a9-f617-4d48-a377-574bab8751b6",
   "metadata": {},
   "outputs": [
    {
     "data": {
      "image/png": "[encoded data removed]",
      "text/plain": [
       "<Figure size 1000x600 with 1 Axes>"
      ]
     },
     "metadata": {},
     "output_type": "display_data"
    },
    {
     "name": "stdout",
     "output_type": "stream",
     "text": [
      "Final Training Loss: 0.1163\n",
      "Final Dev Loss: 0.1381\n"
     ]
    }
   ],
   "source": [
    "# Plot both training and dev losses on the same chart.\n",
    "plt.figure(figsize=(10, 6))\n",
    "plt.plot(epochs, train_losses, label='Training Loss')\n",
    "plt.plot(epochs, dev_losses, label='Dev Loss')\n",
    "plt.xlabel('Epoch')\n",
    "plt.ylabel('RMSE Log Loss\\n(Log Scale)', rotation=0, labelpad=60)\n",
    "plt.title('Training and Dev Loss Over Epochs')\n",
    "plt.legend()\n",
    "plt.yscale('log')\n",
    "plt.show()\n",
    "\n",
    "print(f\"Final Training Loss: {train_losses[-1]:.4f}\")\n",
    "print(f\"Final Dev Loss: {dev_losses[-1]:.4f}\")"
   ]
  },
  {
   "cell_type": "markdown",
   "id": "857db0f9-0df2-4563-9bbf-52af260cde2b",
   "metadata": {},
   "source": [
    "# 8. Predict on Test Set with Fully Trained Model"
   ]
  },
  {
   "cell_type": "code",
   "execution_count": 9,
   "id": "2cd83aa7-631a-4acb-b3a1-36e8caddee1c",
   "metadata": {},
   "outputs": [],
   "source": [
    "# Set the model to evaluation mode for predictions.\n",
    "model.eval()\n",
    "with torch.no_grad():\n",
    "    predictions = model(X_test_tensor)\n",
    "    #print(\"Predictions on X_test:\")\n",
    "    #print(predictions)\n",
    "\n",
    "# Create a submission DataFrame and save predictions.\n",
    "nn_submission = pd.DataFrame()\n",
    "nn_submission['Id'] = X_test['Id']\n",
    "nn_submission['SalePrice'] = predictions.squeeze()  # Remove extra dimension if any"
   ]
  },
  {
   "cell_type": "markdown",
   "id": "e87d8a9c-b98c-44cb-9b7b-602f98cdbcaa",
   "metadata": {},
   "source": [
    "# 9. Write to Submission File"
   ]
  },
  {
   "cell_type": "code",
   "execution_count": 10,
   "id": "0f4d653d-2dfd-4894-9b3e-bc9a99a8fe2b",
   "metadata": {},
   "outputs": [
    {
     "name": "stdout",
     "output_type": "stream",
     "text": [
      "Submission file created: submission-nn.csv\n"
     ]
    }
   ],
   "source": [
    "file_name = 'submission-nn.csv'\n",
    "nn_submission.to_csv(file_name, index=False)\n",
    "print(f\"Submission file created: {file_name}\")"
   ]
  }
 ],
 "metadata": {
  "kernelspec": {
   "display_name": "Python 3 (ipykernel)",
   "language": "python",
   "name": "python3"
  },
  "language_info": {
   "codemirror_mode": {
    "name": "ipython",
    "version": 3
   },
   "file_extension": ".py",
   "mimetype": "text/x-python",
   "name": "python",
   "nbconvert_exporter": "python",
   "pygments_lexer": "ipython3",
   "version": "3.11.9"
  }
 },
 "nbformat": 4,
 "nbformat_minor": 5
}
