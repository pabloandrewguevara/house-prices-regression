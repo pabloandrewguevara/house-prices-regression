{
 "cells": [
  {
   "cell_type": "code",
   "execution_count": 1,
   "id": "922e3914-fc6e-4b2b-b3c5-32a926704193",
   "metadata": {},
   "outputs": [],
   "source": [
    "import numpy as np\n",
    "import pandas as pd\n",
    "import matplotlib.pyplot as plt\n",
    "from sklearn.metrics import root_mean_squared_error\n",
    "from sklearn.model_selection import train_test_split\n",
    "\n",
    "%matplotlib inline\n",
    "\n",
    "import warnings\n",
    "warnings.filterwarnings(\"ignore\")\n",
    "\n",
    "plt.style.use('ggplot')"
   ]
  },
  {
   "cell_type": "code",
   "execution_count": 2,
   "id": "b6dfaf55-0fa5-4d30-9837-3c4f569c8da4",
   "metadata": {},
   "outputs": [],
   "source": [
    "train = pd.read_csv('./data/train_transformed.csv')\n",
    "X_test = pd.read_csv('./data/test_transformed.csv')\n",
    "\n",
    "X_train = train.drop('SalePrice',axis=1)\n",
    "y_train = train.SalePrice\n",
    "\n",
    "#X_train, X_dev, y_train, y_dev = train_test_split(X_train, y_train, test_size=0.2, random_state=42)\n",
    "\n",
    "# adding missing 1-hot encoded columns so regression has same columns\n",
    "for col in X_train.columns:\n",
    "    if col not in X_test.columns:\n",
    "        X_test[col] = False\n",
    "\n",
    "# TODO fix.. just dropping this extra 1-hot encoded column that appeared in the test set\n",
    "X_test.drop('MSSubClass_150',axis=1,inplace=True)\n",
    "\n",
    "X_test = X_test[X_train.columns]"
   ]
  },
  {
   "cell_type": "code",
   "execution_count": 3,
   "id": "1380f017-91cc-4b5e-a9c3-3cc73905c4f9",
   "metadata": {},
   "outputs": [
    {
     "name": "stdout",
     "output_type": "stream",
     "text": [
      "\n",
      "0.11504029543840721\n"
     ]
    },
    {
     "data": {
      "image/png": "[encoded data removed]",
      "text/plain": [
       "<Figure size 640x480 with 1 Axes>"
      ]
     },
     "metadata": {},
     "output_type": "display_data"
    }
   ],
   "source": [
    "import torch\n",
    "import torch.nn as nn\n",
    "import torch.optim as optim\n",
    "from torch.utils.data import TensorDataset, DataLoader\n",
    "import numpy as np\n",
    "import random\n",
    "\n",
    "# Set the seed for reproducibility\n",
    "seed = 42\n",
    "np.random.seed(seed)\n",
    "torch.manual_seed(seed)\n",
    "random.seed(seed)\n",
    "if torch.cuda.is_available():\n",
    "    torch.cuda.manual_seed(seed)\n",
    "    torch.cuda.manual_seed_all(seed)\n",
    "    # Ensure deterministic behavior on GPU (might impact performance)\n",
    "    torch.backends.cudnn.deterministic = True\n",
    "    torch.backends.cudnn.benchmark = False\n",
    "\n",
    "# Convert your pandas DataFrames to numeric NumPy arrays and then to tensors.\n",
    "X_train_numeric = X_train.astype(np.float32)\n",
    "y_train_numeric = y_train.astype(np.float32)\n",
    "X_test_numeric  = X_test.astype(np.float32)\n",
    "\n",
    "X_train_tensor = torch.tensor(X_train_numeric.to_numpy(), dtype=torch.float32)\n",
    "y_train_tensor = torch.tensor(y_train_numeric.to_numpy(), dtype=torch.float32).unsqueeze(1)\n",
    "X_test_tensor  = torch.tensor(X_test_numeric.to_numpy(), dtype=torch.float32)\n",
    "\n",
    "# Create a DataLoader for mini-batch training.\n",
    "train_dataset = TensorDataset(X_train_tensor, y_train_tensor)\n",
    "batch_size = 32\n",
    "train_loader = DataLoader(train_dataset, batch_size=batch_size, shuffle=True)\n",
    "\n",
    "# Define a simple feed-forward neural network.\n",
    "class FeedForwardNN(nn.Module):\n",
    "    def __init__(self, input_dim):\n",
    "        super(FeedForwardNN, self).__init__()\n",
    "        self.net = nn.Sequential(\n",
    "            nn.Linear(input_dim, 64),\n",
    "            nn.ReLU(),\n",
    "            nn.Linear(64, 64),\n",
    "            nn.ReLU(),\n",
    "            nn.Linear(64, 32),\n",
    "            nn.ReLU(),\n",
    "            nn.Linear(32, 1)  # Output layer for regression\n",
    "        )\n",
    "    \n",
    "    def forward(self, x):\n",
    "        return self.net(x)\n",
    "\n",
    "# Instantiate the model.\n",
    "input_dim = X_train_tensor.shape[1]\n",
    "model = FeedForwardNN(input_dim)\n",
    "\n",
    "# Define the custom loss function: RMSE of log values.\n",
    "def rmse_log_loss(pred, target, epsilon=1e-7):\n",
    "    # Clamp predictions and targets to ensure positivity\n",
    "    pred = torch.clamp(pred, min=epsilon)\n",
    "    target = torch.clamp(target, min=epsilon)\n",
    "    return torch.sqrt(torch.mean((torch.log(pred) - torch.log(target)) ** 2))\n",
    "\n",
    "# Define the optimizer.\n",
    "optimizer = optim.Adam(model.parameters(), lr=0.001)\n",
    "\n",
    "epochs = []\n",
    "losses = []\n",
    "\n",
    "# Training loop.\n",
    "num_epochs = 500\n",
    "for epoch in range(num_epochs):\n",
    "    model.train()\n",
    "    epoch_loss = 0.0\n",
    "    for batch_X, batch_y in train_loader:\n",
    "        optimizer.zero_grad()                # Clear gradients\n",
    "        outputs = model(batch_X)               # Forward pass\n",
    "        loss = rmse_log_loss(outputs, batch_y) # Compute custom loss\n",
    "        loss.backward()                        # Backpropagation\n",
    "        optimizer.step()                       # Update weights\n",
    "        \n",
    "        epoch_loss += loss.item() * batch_X.size(0)\n",
    "    \n",
    "    epoch_loss /= len(train_loader.dataset)\n",
    "    if (epoch + 1) % 10 == 0:\n",
    "        #print(f\"Epoch [{epoch+1}/{num_epochs}], RMSE Log Loss: {epoch_loss:.4f}\")\n",
    "\n",
    "        epochs.append(epoch+1)\n",
    "        losses.append(epoch_loss)\n",
    "\n",
    "'''\n",
    "# Predict on the test set.\n",
    "model.eval()\n",
    "with torch.no_grad():\n",
    "    predictions = model(X_test_tensor)\n",
    "    print(\"First five predictions:\")\n",
    "    print(predictions[:5])\n",
    "'''\n",
    "print()\n",
    "\n",
    "plt.plot(epochs,losses)\n",
    "\n",
    "print(losses[-1])"
   ]
  },
  {
   "cell_type": "code",
   "execution_count": 4,
   "id": "0b288b95-ca7f-4f2e-b17b-ef513e052fec",
   "metadata": {},
   "outputs": [
    {
     "name": "stdout",
     "output_type": "stream",
     "text": [
      "Predictions on X_test:\n",
      "tensor([[127700.7734],\n",
      "        [171852.7656],\n",
      "        [197446.3281],\n",
      "        ...,\n",
      "        [162636.6250],\n",
      "        [135448.1094],\n",
      "        [229203.6719]])\n"
     ]
    }
   ],
   "source": [
    "# Set the model to evaluation mode\n",
    "model.eval()\n",
    "\n",
    "# Predict on the test set without tracking gradients\n",
    "with torch.no_grad():\n",
    "    predictions = model(X_test_tensor)\n",
    "    print(\"Predictions on X_test:\")\n",
    "    print(predictions)\n",
    "\n",
    "nn_submission = pd.DataFrame()\n",
    "nn_submission['Id'] = X_test['Id']\n",
    "nn_submission['SalePrice'] = predictions\n",
    "\n",
    "nn_submission.to_csv('submission-nn.csv',index=False)"
   ]
  }
 ],
 "metadata": {
  "kernelspec": {
   "display_name": "Python 3 (ipykernel)",
   "language": "python",
   "name": "python3"
  },
  "language_info": {
   "codemirror_mode": {
    "name": "ipython",
    "version": 3
   },
   "file_extension": ".py",
   "mimetype": "text/x-python",
   "name": "python",
   "nbconvert_exporter": "python",
   "pygments_lexer": "ipython3",
   "version": "3.11.9"
  }
 },
 "nbformat": 4,
 "nbformat_minor": 5
}
